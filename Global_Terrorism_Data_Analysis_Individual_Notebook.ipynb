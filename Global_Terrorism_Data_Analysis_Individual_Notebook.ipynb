{
  "nbformat": 4,
  "nbformat_minor": 0,
  "metadata": {
    "colab": {
      "private_outputs": true,
      "provenance": [],
      "collapsed_sections": [
        "mDgbUHAGgjLW",
        "gIfDvo9L0UH2"
      ],
      "include_colab_link": true
    },
    "kernelspec": {
      "name": "python3",
      "display_name": "Python 3"
    },
    "language_info": {
      "name": "python"
    }
  },
  "cells": [
    {
      "cell_type": "markdown",
      "metadata": {
        "id": "view-in-github",
        "colab_type": "text"
      },
      "source": [
        "<a href=\"https://colab.research.google.com/github/IMLEGEND007/CAPSTONE_PROJECT_1_Global_Terrorism_Data_Analysis_Siddhartha_Nag/blob/main/Global_Terrorism_Data_Analysis_Individual_Notebook.ipynb\" target=\"_parent\"><img src=\"https://colab.research.google.com/assets/colab-badge.svg\" alt=\"Open In Colab\"/></a>"
      ]
    },
    {
      "cell_type": "markdown",
      "source": [
        "# **Project Name**    - **Global Terrorism Data Analysis**\n",
        "\n"
      ],
      "metadata": {
        "id": "vncDsAP0Gaoa"
      }
    },
    {
      "cell_type": "markdown",
      "source": [
        "##### **Project Type**    - EDA\n",
        "##### **Contribution**    - Individual\n",
        "##### **Name**            - **Siddhartha Nag**"
      ],
      "metadata": {
        "id": "beRrZCGUAJYm"
      }
    },
    {
      "cell_type": "markdown",
      "source": [
        "# **Project Summary -**"
      ],
      "metadata": {
        "id": "FJNUwmbgGyua"
      }
    },
    {
      "cell_type": "markdown",
      "source": [
        "####**1. Introduction**\n",
        "#### **What is Terrorism**\n",
        "#### Terrorism is defined in the Oxford Dictionary as **“the unlawful use of violence and intimidation, especially against civilians, in the pursuit of political aims.”**\n",
        "\n",
        "#### Terrorism can also be defined as the method of using voilence in various ways to create fear and create a chaotic enviornment within population in order to achieve their various aims like occupying land, changing relegious activities or against any relgion, overthrowing goverment with method of violence or any of their ideological objectives.\n",
        "#### Terrorist act can involve bombings, shootings, hostage taking or any other way of creating violence aginst civilians. The motivations behind terrorism can vary widely, ranging from separatism and nationalism to religious extremism and ideological zeal. Governments, organizations, and international bodies work to counter and prevent terrorism through various means, including intelligence gathering, law enforcement, diplomacy, and addressing root causes such as socio-economic disparities and political grievances.\n",
        "#### **2. Methodology**\n",
        "EDA (Exploratory Data Analysis)\n",
        "Exploratory data analysis (EDA) is an approach that is used to analyze the data and discover trends, patterns, or check assumptions in data with the help of statistical summaries and graphical representations.It is used by data scientists to analyze and investigate data sets and summarize their main characteristics, often employing data visualization methods. It helps determine how best to manipulate data sources to get the answers you need, making it easier for data scientists to discover patterns, spot anomalies, test a hypothesis, or check assumptions.\n",
        "Few steps of EDA are:\n",
        "Understand the Dataset: Start by gaining a high-level understanding of the dataset. Look at the dataset's structure, the number of rows and columns, and the data types of each column. This step helps you get familiar with the data you'll be working with.\n",
        "Handling Missing Data and Removing Duplicates: Identify missing values in the dataset and decide how to handle them. Depending on the amount and nature of missing data, you can choose to drop rows or columns with missing values, impute missing values with suitable methods, or keep missing values as a separate category if applicable. Check for duplicate records in the dataset. If duplicates exist, decide whether to remove them or handle them based on the specific analysis requirements.\n",
        "Examine Descriptive Statistics: Calculate descriptive statistics for numerical variables such as mean, median, standard deviation, minimum, and maximum values. This step provides a summary of the central tendency and spread of the data.\n",
        "Visualize the Data: Use various plots and charts to visualize the data and identify patterns, trends, or outliers. Some commonly used visualizations include histograms, scatter plots, bar charts, box plots, and correlation matrices.\n",
        "#### **3. Analysis and Implementation**\n",
        "Exploratory data implementation\n",
        "\n",
        "1. Collect and Load Data: Collecting the dataset from kaggle website i.e. Global Terrorism Database.\n",
        "Loading the dataset using python library Pandas in Jupyter notebook.\n",
        "\n",
        "2. Understand the Data: Getting a basic understanding of the GTD data by inspecting the first few rows (data.head()), checking data types (data.info()), and getting summary statistics (data.describe()).\n",
        "\n",
        "3. Handle Missing Values: Identify and handle missing data. Used df.isna().sum() to count missing values in each column.\n",
        "Created a function to create a table of missing values with percentage of missing values in it.\n",
        "Depending on the amount of missing data, I choosed to drop columns with more than 40 percent of missing data , and for other analysis I choosed to drop rows and fill missing values, or keep them as a separate category.\n",
        "\n",
        "4. Explore Data Distribution: Visualized the distribution of numeric features using histograms (data.hist()). For categorical features, use bar plots (data['feature'].value_counts().plot(kind='bar')) to see the distribution.\n",
        "For time series data plotted line plot to see the distribution over a time period i.e. plt.plot()\n",
        "\n",
        "5. Analyze Correlations: Calculate and visualize correlations between numeric features using a correlation matrix (data.corr()). This helped in identifying relationships between variables which seen to be very high.\n",
        "\n",
        "6. Visualize Relationships: Visualization done using Python libraries like Plotly, matplotlib, seaborn, wordcloud.\n",
        "Explored relationships between features using bar plots (plt.bar()), created pie plots(plt.pie) for finding caategorical distribution for each class.\n",
        "\n",
        "7. Feature Engineering: Added new column casualties to the table by merging two columns killed and wounded.\n",
        "Created date column with right day,month and year in it.\n",
        "\n",
        "8. Categorical Insights: Created various categorical bar plot and pie plot.\n",
        "Visualized the data and found insights from it.\n",
        "\n",
        "9. Finalize Insights: Summarize the key insights in points. Identify patterns, trends, potential correlations, and wrote notable findings below them.\n",
        "\n",
        "\n",
        "#### **4.Findings**\n",
        "\n",
        "1. As Year passing by these 4 terrorist groups becoming stronger and resulting to major events around the globe\n",
        "A.ISIL ( Islamic State of Iraq and the levant )\n",
        "\n",
        "*   ISIL ( Islamic State of Iraq and the levant ): ISIL was the deadliest group in 2016 with a more than 100 percent increase in deaths from its previous peak in 2015.\n",
        " This group is active in Iraq however after attacks in 2016 it has lower its activites and on further finding s we find out, ISIL is now near complete military defeat in Iraq and Syria.\n",
        " Thus we can see less events from this group for a year two as it was near complete defeat.\n",
        " ISIL main method of attack is Explosion and Bombing.\n",
        " Their most attacked target are 'Private citizen and Property , Military'.\n",
        "*   Taliban: As plotted above the activities of Taliban over years ,their terrorist attack trend keep growing and if it this keeps on they will lead to some major events in coming years as we can see in present day, Taliban overthrowned the Afghanistan goverment and now it is in power in the country.\n",
        " Taliban consistently used bombings and armed assaults as its main modes of attack.\n",
        " Seems their favourite target is 'Police  and   Military'.\n",
        "\n",
        "\n",
        "2. Iraq experienced a 40 per cent increase in deaths in 2016 in reflecting the increased intensity of ISIL activity following attacks by the Iraqi Armed Forces.\n",
        "\n",
        "3. Middle East & North Africa , South East Asia are the two regions that seen a major surge of terrorism activities from 2005 till 2015 , while Central and South America were least affected."
      ],
      "metadata": {
        "id": "F6v_1wHtG2nS"
      }
    },
    {
      "cell_type": "markdown",
      "source": [
        "# **GitHub Link -**"
      ],
      "metadata": {
        "id": "w6K7xa23Elo4"
      }
    },
    {
      "cell_type": "markdown",
      "source": [
        "https://github.com/IMLEGEND007/CAPSTONE_PROJECT_1_Global_Terrorism_Data_Analysis_Siddhartha_Nag"
      ],
      "metadata": {
        "id": "h1o69JH3Eqqn"
      }
    },
    {
      "cell_type": "markdown",
      "source": [
        "# **Problem Statement**\n"
      ],
      "metadata": {
        "id": "yQaldy8SH6Dl"
      }
    },
    {
      "cell_type": "markdown",
      "source": [
        "**As a security/defence analyst, try to find out the hot zone of terrorism. What all security issues and insights you can derive by EDA?**"
      ],
      "metadata": {
        "id": "DpeJGUA3kjGy"
      }
    },
    {
      "cell_type": "markdown",
      "source": [
        "#### **Define Your Business Objective?**"
      ],
      "metadata": {
        "id": "PH-0ReGfmX4f"
      }
    },
    {
      "cell_type": "markdown",
      "source": [
        "To analyze global terrorism data with the aim of improving national and international security, reducing the impact of terrorism, and informing policy, law enforcement, and intelligence agencies.\n",
        "\n",
        "Key components of this objective include:\n",
        "\n",
        "**Threat Assessment:** Assessing the nature and severity of terrorist threats worldwide. This involves identifying high-risk areas, groups, and individuals, as well as understanding the motivations and tactics employed by terrorist organizations.\n",
        "\n",
        "**Pattern Recognition:** Identifying patterns and trends in terrorist incidents, such as geographic hotspots, common attack methods, and evolving strategies. This information helps anticipate and respond to future threats.\n",
        "\n",
        "**Risk Mitigation:** Developing strategies and recommendations to mitigate the risk of terrorism. This could involve improving security measures, enhancing intelligence sharing, and implementing policies to counter radicalization and recruitment efforts.\n",
        "\n",
        "**Policy Formulation:** Providing data-driven insights to policymakers, government agencies, and law enforcement bodies to shape effective counterterrorism policies and strategies.\n",
        "\n",
        "**Resource Allocation:** Optimizing the allocation of resources for counterterrorism efforts by identifying areas with the greatest need and potential impact.\n",
        "\n",
        "**International Collaboration:** Facilitating collaboration and information sharing among countries and organizations to combat global terrorism effectively.\n",
        "\n",
        "**Public Safety:** Ensuring the safety and well-being of citizens by using data analysis to prevent and respond to terrorist incidents.\n",
        "\n",
        "**Prevention:** Identifying factors that contribute to radicalization and terrorism, and developing prevention programs and initiatives to address these root causes.\n",
        "\n",
        "**Response Planning:** Developing response plans and strategies for handling terrorist incidents, including crisis management, law enforcement actions, and humanitarian aid efforts.\n",
        "\n",
        "**Evaluation and Adaptation:** Continuously evaluating the effectiveness of counterterrorism efforts and adjusting strategies based on data-driven insights."
      ],
      "metadata": {
        "id": "PhDvGCAqmjP1"
      }
    },
    {
      "cell_type": "markdown",
      "source": [
        "# **General Guidelines** : -  "
      ],
      "metadata": {
        "id": "mDgbUHAGgjLW"
      }
    },
    {
      "cell_type": "markdown",
      "source": [
        "1.   Well-structured, formatted, and commented code is required.\n",
        "2.   Exception Handling, Production Grade Code & Deployment Ready Code will be a plus. Those students will be awarded some additional credits.\n",
        "     \n",
        "     The additional credits will have advantages over other students during Star Student selection.\n",
        "       \n",
        "             [ Note: - Deployment Ready Code is defined as, the whole .ipynb notebook should be executable in one go\n",
        "                       without a single error logged. ]\n",
        "\n",
        "3.   Each and every logic should have proper comments.\n",
        "4. You may add as many number of charts you want. Make Sure for each and every chart the following format should be answered.\n",
        "        \n",
        "\n",
        "```\n",
        "# Chart visualization code\n",
        "```\n",
        "            \n",
        "\n",
        "*   Why did you pick the specific chart?\n",
        "*   What is/are the insight(s) found from the chart?\n",
        "* Will the gained insights help creating a positive business impact?\n",
        "Are there any insights that lead to negative growth? Justify with specific reason.\n",
        "\n",
        "5. You have to create at least 20 logical & meaningful charts having important insights.\n",
        "\n",
        "\n",
        "[ Hints : - Do the Vizualization in  a structured way while following \"UBM\" Rule.\n",
        "\n",
        "U - Univariate Analysis,\n",
        "\n",
        "B - Bivariate Analysis (Numerical - Categorical, Numerical - Numerical, Categorical - Categorical)\n",
        "\n",
        "M - Multivariate Analysis\n",
        " ]\n",
        "\n",
        "\n",
        "\n"
      ],
      "metadata": {
        "id": "ZrxVaUj-hHfC"
      }
    },
    {
      "cell_type": "markdown",
      "source": [
        "# ***Let's Begin !***"
      ],
      "metadata": {
        "id": "O_i_v8NEhb9l"
      }
    },
    {
      "cell_type": "markdown",
      "source": [
        "## ***1. Know Your Data***"
      ],
      "metadata": {
        "id": "HhfV-JJviCcP"
      }
    },
    {
      "cell_type": "markdown",
      "source": [
        "### Import Libraries"
      ],
      "metadata": {
        "id": "Y3lxredqlCYt"
      }
    },
    {
      "cell_type": "code",
      "source": [
        "# Import Libraries\n",
        "import pandas as pd\n",
        "import numpy as np\n",
        "import matplotlib.pyplot as plt\n",
        "import seaborn as sns\n",
        "%matplotlib inline\n",
        "import plotly.express as px\n",
        "import missingno as msno"
      ],
      "metadata": {
        "id": "M8Vqi-pPk-HR"
      },
      "execution_count": null,
      "outputs": []
    },
    {
      "cell_type": "markdown",
      "source": [
        "### Dataset Loading"
      ],
      "metadata": {
        "id": "3RnN4peoiCZX"
      }
    },
    {
      "cell_type": "code",
      "source": [
        "# Load Dataset\n",
        "from google.colab import drive\n",
        "drive.mount('/content/drive')"
      ],
      "metadata": {
        "id": "4CkvbW_SlZ_R"
      },
      "execution_count": null,
      "outputs": []
    },
    {
      "cell_type": "code",
      "metadata": {
        "id": "2v_C-mLPD8HF"
      },
      "source": [
        "file_location = '/content/drive/MyDrive/AlmaBetter_Masters/Module_2/Capstone_Projects/Global_Terrorism/'"
      ],
      "execution_count": null,
      "outputs": []
    },
    {
      "cell_type": "code",
      "source": [
        "data = pd.read_csv(file_location + 'Global Terrorism Data.csv', encoding='latin-1')"
      ],
      "metadata": {
        "id": "dY5qcuxT8uhZ"
      },
      "execution_count": null,
      "outputs": []
    },
    {
      "cell_type": "markdown",
      "source": [
        "### Dataset First View"
      ],
      "metadata": {
        "id": "x71ZqKXriCWQ"
      }
    },
    {
      "cell_type": "code",
      "source": [
        "# Dataset First Look\n",
        "data.head()"
      ],
      "metadata": {
        "id": "LWNFOSvLl09H"
      },
      "execution_count": null,
      "outputs": []
    },
    {
      "cell_type": "markdown",
      "source": [
        "### Dataset Rows & Columns count"
      ],
      "metadata": {
        "id": "7hBIi_osiCS2"
      }
    },
    {
      "cell_type": "code",
      "source": [
        "# Dataset Rows & Columns count\n",
        "data.columns"
      ],
      "metadata": {
        "id": "Kllu7SJgmLij"
      },
      "execution_count": null,
      "outputs": []
    },
    {
      "cell_type": "code",
      "source": [
        "data.columns.values"
      ],
      "metadata": {
        "id": "CkFVpnDq-mCM"
      },
      "execution_count": null,
      "outputs": []
    },
    {
      "cell_type": "markdown",
      "source": [
        "### Dataset Information"
      ],
      "metadata": {
        "id": "JlHwYmJAmNHm"
      }
    },
    {
      "cell_type": "code",
      "source": [
        "# Dataset Info\n",
        "data.info"
      ],
      "metadata": {
        "id": "e9hRXRi6meOf"
      },
      "execution_count": null,
      "outputs": []
    },
    {
      "cell_type": "code",
      "source": [
        "# Dataset shape\n",
        "data.shape"
      ],
      "metadata": {
        "id": "NBWysQ_Q-6Jb"
      },
      "execution_count": null,
      "outputs": []
    },
    {
      "cell_type": "markdown",
      "source": [
        "#### Duplicate Values"
      ],
      "metadata": {
        "id": "35m5QtbWiB9F"
      }
    },
    {
      "cell_type": "code",
      "source": [
        "# Dataset Duplicate Value Count\n",
        "data.rename(columns={'iyear':'Year','imonth':'Month','iday':\"day\",'gname':'Group','country_txt':'Country','region_txt':'Region','provstate':'State','city':'City','latitude':'latitude',\n",
        "    'longitude':'longitude','summary':'summary','attacktype1_txt':'Attacktype','targtype1_txt':'Targettype','weaptype1_txt':'Weapon','nkill':'kill',\n",
        "     'nwound':'Wound'},inplace=True)"
      ],
      "metadata": {
        "id": "1sLdpKYkmox0"
      },
      "execution_count": null,
      "outputs": []
    },
    {
      "cell_type": "code",
      "source": [
        "data = data[['Year','Month','day','Country','State','Region','City','latitude','longitude',\"Attacktype\",'kill',\n",
        "               'Wound','target1','summary','Group','Targettype','Weapon','motive']]"
      ],
      "metadata": {
        "id": "tbnWN4R4_p3N"
      },
      "execution_count": null,
      "outputs": []
    },
    {
      "cell_type": "code",
      "source": [
        "# Extract new data\n",
        "data.head()"
      ],
      "metadata": {
        "id": "FaAKecwy_tC1"
      },
      "execution_count": null,
      "outputs": []
    },
    {
      "cell_type": "markdown",
      "source": [
        "#### Missing Values/Null Values"
      ],
      "metadata": {
        "id": "PoPl-ycgm1ru"
      }
    },
    {
      "cell_type": "code",
      "source": [
        "# checking the null value with percentage of null values\n",
        "\n",
        "def missing_values_table(data):\n",
        "        # Total missing values\n",
        "        mis_val = data.isnull().sum()\n",
        "\n",
        "        # Percentage of missing values\n",
        "        mis_val_percent = 100 * data.isnull().sum() / len(data)\n",
        "\n",
        "        # Make a table with the results\n",
        "        mis_val_table = pd.concat([mis_val, mis_val_percent], axis=1)\n",
        "\n",
        "        # Rename the columns\n",
        "        mis_val_table_ren_columns = mis_val_table.rename(\n",
        "        columns = {0 : 'Missing Values', 1 : '% of Total Values'})\n",
        "\n",
        "        # Sort the table by percentage of missing descending\n",
        "        mis_val_table_ren_columns = mis_val_table_ren_columns[\n",
        "            mis_val_table_ren_columns.iloc[:,1] != 0].sort_values(\n",
        "        '% of Total Values', ascending=False).round(1)\n",
        "\n",
        "        # Print some summary information\n",
        "        print (\"Your selected dataframe has \" + str(data.shape[1]) + \" columns.\\n\"\n",
        "            \"There are \" + str(mis_val_table_ren_columns.shape[0]) +\n",
        "              \" columns that have missing values.\")\n",
        "\n",
        "        # Return the dataframe with missing information\n",
        "        return mis_val_table_ren_columns\n",
        "\n",
        "missing_values= missing_values_table(data)\n",
        "missing_values.style.background_gradient(cmap='Greens')"
      ],
      "metadata": {
        "id": "mZ-12TQl7qm7"
      },
      "execution_count": null,
      "outputs": []
    },
    {
      "cell_type": "code",
      "source": [
        "# Missing Values\n",
        "data.isnull().any()"
      ],
      "metadata": {
        "id": "lJtFh4DR3vdD"
      },
      "execution_count": null,
      "outputs": []
    },
    {
      "cell_type": "code",
      "source": [
        "pd.set_option('display.max_rows', 1000);\n",
        "data.isnull().sum()"
      ],
      "metadata": {
        "id": "RCroGakn33Q5"
      },
      "execution_count": null,
      "outputs": []
    },
    {
      "cell_type": "code",
      "source": [
        "# Visualizing the missing values\n",
        "msno.bar(data)"
      ],
      "metadata": {
        "id": "3q5wnI3om9sJ"
      },
      "execution_count": null,
      "outputs": []
    },
    {
      "cell_type": "code",
      "source": [
        "msno.heatmap(data)"
      ],
      "metadata": {
        "id": "7Ci8BmP05k2d"
      },
      "execution_count": null,
      "outputs": []
    },
    {
      "cell_type": "markdown",
      "source": [
        "**Handling missing data :**"
      ],
      "metadata": {
        "id": "RYaxrJ9rHuXs"
      }
    },
    {
      "cell_type": "code",
      "source": [
        "data.rename(columns={'iyear':'Year','imonth':'Month','iday':\"day\",'gname':'Group','country_txt':'Country','region_txt':'Region','provstate':'State','city':'City','latitude':'latitude',\n",
        "    'longitude':'longitude','summary':'summary','attacktype1_txt':'Attacktype','targtype1_txt':'Targettype','weaptype1_txt':'Weapon','nkill':'kill',\n",
        "     'nwound':'Wound'},inplace=True)"
      ],
      "metadata": {
        "id": "g4jnmiMaIP7H"
      },
      "execution_count": null,
      "outputs": []
    },
    {
      "cell_type": "code",
      "source": [
        "data = data[['Year','Month','day','Country','State','Region','City','latitude','longitude',\"Attacktype\",'kill',\n",
        "               'Wound','target1','summary','Group','Targettype','Weapon','motive']]"
      ],
      "metadata": {
        "id": "CsQJsvJjIVNg"
      },
      "execution_count": null,
      "outputs": []
    },
    {
      "cell_type": "code",
      "source": [
        "data.describe()"
      ],
      "metadata": {
        "id": "rhMu82TdImWO"
      },
      "execution_count": null,
      "outputs": []
    },
    {
      "cell_type": "code",
      "source": [
        "data.isnull().sum()"
      ],
      "metadata": {
        "id": "h-gUgR5GI3Vf"
      },
      "execution_count": null,
      "outputs": []
    },
    {
      "cell_type": "code",
      "source": [
        "data['State'].fillna(0,inplace=True)\n",
        "data['City'].fillna(0,inplace=True)\n",
        "data['latitude'].fillna(0,inplace=True)\n",
        "data['longitude'].fillna(0,inplace=True)\n",
        "data['kill'].fillna(0,inplace=True)\n",
        "data['Wound'].fillna(0,inplace=True)\n",
        "data['target1'].fillna(0,inplace=True)\n",
        "data['summary'].fillna(0,inplace=True)\n",
        "data['motive'].fillna(0,inplace=True)\n",
        "data['Group'].fillna(0,inplace=True)\n",
        "data['Weapon'].fillna(0,inplace=True)"
      ],
      "metadata": {
        "id": "S1dc7gLDI56X"
      },
      "execution_count": null,
      "outputs": []
    },
    {
      "cell_type": "code",
      "source": [
        "data.isnull().sum()"
      ],
      "metadata": {
        "id": "bnQWN9-KJlRB"
      },
      "execution_count": null,
      "outputs": []
    },
    {
      "cell_type": "markdown",
      "source": [
        "### What did you know about your dataset?"
      ],
      "metadata": {
        "id": "H0kj-8xxnORC"
      }
    },
    {
      "cell_type": "markdown",
      "source": [
        "**About Dataset:**\n",
        "#### The Dataset was extracted from the Global Terrorism Database (GTD) - an open-source database including information on terrorist attacks around the world from 1970 through 2017. The GTD includes systematic data on domestic as well as international terrorist incidents that have occurred during this time period and now includes more than 180,000 attacks. The database is maintained by researchers at the National Consortium for the Study of Terrorism and Responses to Terrorism (START), headquartered at the University of Maryland.\n",
        "\n",
        "**This Project consists this topics:**\n",
        "\n",
        "#### 1. Terrorist Activities by Region in each Year through Area Plot\n",
        "#### 2. Number of Terrorist Activities each Year\n",
        "#### 3. Number of attack were there in 1970 & 2017 and Also find percentage the attacks have increased\n",
        "#### 4. Methods of attack\n",
        "#### 5. Most Active Terrorist Organizations\n",
        "#### 6. Total number of terrorist attack in each country and regions using barplot\n",
        "#### 7. The total number of attacks in each country using Globe\n",
        "#### 8. Top 10 terrorist group attack\n",
        "#### 9. Before and after the War on Terror\n",
        "#### 10. Top 10 Most Frequent targets\n",
        "#### 11. lets check the trend by top 10 terrorist groups their favourite target types\n",
        "#### 12. Correlation Heatmap\n"
      ],
      "metadata": {
        "id": "gfoNAAC-nUe_"
      }
    },
    {
      "cell_type": "markdown",
      "source": [
        "## ***2. Understanding Your Variables***"
      ],
      "metadata": {
        "id": "nA9Y7ga8ng1Z"
      }
    },
    {
      "cell_type": "code",
      "source": [
        "# Dataset Columns\n",
        "data.columns"
      ],
      "metadata": {
        "id": "j7xfkqrt5Ag5"
      },
      "execution_count": null,
      "outputs": []
    },
    {
      "cell_type": "code",
      "source": [
        "# Dataset Describe\n",
        "data.describe()"
      ],
      "metadata": {
        "id": "DnOaZdaE5Q5t"
      },
      "execution_count": null,
      "outputs": []
    },
    {
      "cell_type": "markdown",
      "source": [
        "### Check Unique Values for each variable."
      ],
      "metadata": {
        "id": "u3PMJOP6ngxN"
      }
    },
    {
      "cell_type": "code",
      "source": [
        "# Check Unique Values for each variable.\n",
        "pd.set_option('display.max_rows', 1000);\n",
        "data.nunique()"
      ],
      "metadata": {
        "id": "zms12Yq5n-jE"
      },
      "execution_count": null,
      "outputs": []
    },
    {
      "cell_type": "markdown",
      "source": [
        "## 3. ***Data Wrangling***"
      ],
      "metadata": {
        "id": "dauF4eBmngu3"
      }
    },
    {
      "cell_type": "markdown",
      "source": [
        "### Data Wrangling Code"
      ],
      "metadata": {
        "id": "bKJF3rekwFvQ"
      }
    },
    {
      "cell_type": "code",
      "source": [
        "# Write your code to make your dataset analysis ready.\n",
        "# This represents the distribution of data  on each series in the DataFrame\n",
        "data.hist(figsize=(20,10))"
      ],
      "metadata": {
        "id": "wk-9a2fpoLcV"
      },
      "execution_count": null,
      "outputs": []
    },
    {
      "cell_type": "markdown",
      "source": [
        "### What all manipulations have you done and insights you found?"
      ],
      "metadata": {
        "id": "MSa1f5Uengrz"
      }
    },
    {
      "cell_type": "markdown",
      "source": [
        "1. Rename the colums names\n",
        "2. Among the colums choose the important columns to proceed with the analysis\n",
        "3. Checking is any null value is there or not\n",
        "4. The distribution of data  on each series in the DataFrame\n",
        "5. Handling the missing data"
      ],
      "metadata": {
        "id": "LbyXE7I1olp8"
      }
    },
    {
      "cell_type": "markdown",
      "source": [
        "## ***4. Data Vizualization, Storytelling & Experimenting with charts : Understand the relationships between variables***"
      ],
      "metadata": {
        "id": "GF8Ens_Soomf"
      }
    },
    {
      "cell_type": "markdown",
      "source": [
        "#### Chart - 1: **Terrorist Activities by Region in each Year through Area Plot**"
      ],
      "metadata": {
        "id": "0wOQAZs5pc--"
      }
    },
    {
      "cell_type": "code",
      "source": [
        "# Chart - 1 visualization code\n",
        "pd.crosstab(data.Year, data.Region).plot(kind='area',figsize=(20,7))\n",
        "plt.title('Terrorist Activities by Region in each Year')\n",
        "plt.ylabel('Number of Attacks')\n",
        "plt.show()"
      ],
      "metadata": {
        "id": "7v_ESjsspbW7"
      },
      "execution_count": null,
      "outputs": []
    },
    {
      "cell_type": "markdown",
      "source": [
        "##### 1. Why did you pick the specific chart?"
      ],
      "metadata": {
        "id": "K5QZ13OEpz2H"
      }
    },
    {
      "cell_type": "markdown",
      "source": [
        "**Choosing an area plot to visualize terrorist activities by region in each year is a strategic decision based on the characteristics of the data and the goals of the analysis.**"
      ],
      "metadata": {
        "id": "XESiWehPqBRc"
      }
    },
    {
      "cell_type": "markdown",
      "source": [
        "##### 2. What is/are the insight(s) found from the chart?"
      ],
      "metadata": {
        "id": "lQ7QKXXCp7Bj"
      }
    },
    {
      "cell_type": "markdown",
      "source": [
        "**Terrorist Activities by Region in each Year**"
      ],
      "metadata": {
        "id": "C_j1G7yiqdRP"
      }
    },
    {
      "cell_type": "markdown",
      "source": [
        "##### 3. Will the gained insights help creating a positive business impact?\n",
        "Are there any insights that lead to negative growth? Justify with specific reason."
      ],
      "metadata": {
        "id": "448CDAPjqfQr"
      }
    },
    {
      "cell_type": "markdown",
      "source": [
        "**Analyzing terrorist activities by region through data visualization can indirectly create a positive business impact by contributing to regional stability, security, and the reduction of operational risks for businesses. While the impact may not be immediate or directly tied to profitability, it plays a crucial role in building a foundation for sustainable economic growth and development in affected areas.**"
      ],
      "metadata": {
        "id": "3cspy4FjqxJW"
      }
    },
    {
      "cell_type": "markdown",
      "source": [
        "#### Chart - 2: **Number of Terrorist Activities each Year**"
      ],
      "metadata": {
        "id": "KSlN3yHqYklG"
      }
    },
    {
      "cell_type": "code",
      "source": [
        "# Chart - 2 visualization code\n",
        "year=data['Year'].unique()\n",
        "years_count = data['Year'].value_counts(dropna = False).sort_index()\n",
        "plt.figure(figsize = (18,8))\n",
        "sns.barplot(x = year,y = years_count,palette = \"viridis\")\n",
        "plt.xticks(rotation = 50)\n",
        "plt.title('Attacks Taking Place In Years',fontsize=34)\n",
        "plt.xlabel('Attacking Year',fontsize=40)\n",
        "plt.ylabel('Number of Attacks Per Year',fontsize=25)\n",
        "\n",
        "plt.show()"
      ],
      "metadata": {
        "id": "R4YgtaqtYklH"
      },
      "execution_count": null,
      "outputs": []
    },
    {
      "cell_type": "markdown",
      "source": [
        "##### 1. Why did you pick the specific chart?"
      ],
      "metadata": {
        "id": "t6dVpIINYklI"
      }
    },
    {
      "cell_type": "markdown",
      "source": [
        "**Selecting a bar plot to visualize the number of terrorist activities each year is a logical choice because it aligns well with the discrete and temporal nature of the data. It allows for clear comparisons, trend analysis, and the effective communication of information to a wide range of audiences.**"
      ],
      "metadata": {
        "id": "5aaW0BYyYklI"
      }
    },
    {
      "cell_type": "markdown",
      "source": [
        "##### 2. What is/are the insight(s) found from the chart?"
      ],
      "metadata": {
        "id": "ijmpgYnKYklI"
      }
    },
    {
      "cell_type": "markdown",
      "source": [
        "**Since 2014 and 2015 has a large number of Terrorist activities.**"
      ],
      "metadata": {
        "id": "PSx9atu2YklI"
      }
    },
    {
      "cell_type": "markdown",
      "source": [
        "##### 3. Will the gained insights help creating a positive business impact?\n",
        "Are there any insights that lead to negative growth? Justify with specific reason."
      ],
      "metadata": {
        "id": "-JiQyfWJYklI"
      }
    },
    {
      "cell_type": "markdown",
      "source": [
        "**While the positive business impact may not be immediate or direct, understanding the annual number of terrorist activities can help businesses make informed decisions, minimize risks, and operate responsibly in regions affected by terrorism. Moreover, contributing to the stability and security of these regions indirectly supports economic development and prosperity, which can benefit businesses in the long run.**"
      ],
      "metadata": {
        "id": "BcBbebzrYklV"
      }
    },
    {
      "cell_type": "markdown",
      "source": [
        "#### Chart - 3: **Number of attack were there in 1970 & 2017 and Also find percentage the attacks have increased.**"
      ],
      "metadata": {
        "id": "EM7whBJCYoAo"
      }
    },
    {
      "cell_type": "code",
      "source": [
        "# Chart - 3 visualization code\n",
        "Year=data.Year.value_counts().to_dict()\n",
        "rate=((Year[2017]-Year[1970])/Year[2017])*100\n",
        "print(Year[1970],'attacks happened in 1970 &',Year[2017],'attacks happened in 2017')\n",
        "print('So the number of attacks from 1970 has increased by',np.round(rate,0),'% till 2017')"
      ],
      "metadata": {
        "id": "t6GMdE67YoAp"
      },
      "execution_count": null,
      "outputs": []
    },
    {
      "cell_type": "markdown",
      "source": [
        "**The number of casualities corresponding to the killed people in each country for each year.**"
      ],
      "metadata": {
        "id": "EIbCSilwPB3b"
      }
    },
    {
      "cell_type": "code",
      "source": [
        "px.scatter(data,data.Wound,data.kill,hover_name='Country',animation_frame='Year',animation_group='Country',color='Attacktype',\n",
        "           range_color=[0,1],labels={'Killed':'Deaths','Wound':'Casualities'},\n",
        "           title='Number of casualities vs Killed people in each country for each year')"
      ],
      "metadata": {
        "id": "t3b7wk4tNK5G"
      },
      "execution_count": null,
      "outputs": []
    },
    {
      "cell_type": "markdown",
      "source": [
        "##### 1. Why did you pick the specific chart?"
      ],
      "metadata": {
        "id": "fge-S5ZAYoAp"
      }
    },
    {
      "cell_type": "markdown",
      "source": [
        "**Selecting a scatter plot to visualize the relationship between the number of casualties and the number of killed people in each country for each year aligns well with the data's characteristics and analytical goals. This chart type facilitates the exploration of patterns, trends, and correlations in the data, helping to uncover meaningful insights and inform decision-making in fields related to terrorism analysis and security studies.**"
      ],
      "metadata": {
        "id": "5dBItgRVYoAp"
      }
    },
    {
      "cell_type": "markdown",
      "source": [
        "##### 2. What is/are the insight(s) found from the chart?"
      ],
      "metadata": {
        "id": "85gYPyotYoAp"
      }
    },
    {
      "cell_type": "markdown",
      "source": [
        " **651 attacks happened in 1970 & 10900 attacks happened in 2017**\n",
        "\n",
        "**So the number of attacks from 1970 has increased by 94.0 % till 2017**"
      ],
      "metadata": {
        "id": "4jstXR6OYoAp"
      }
    },
    {
      "cell_type": "markdown",
      "source": [
        "##### 3. Will the gained insights help creating a positive business impact?\n",
        "Are there any insights that lead to negative growth? Justify with specific reason."
      ],
      "metadata": {
        "id": "RoGjAbkUYoAp"
      }
    },
    {
      "cell_type": "markdown",
      "source": [
        "**While the positive business impact of analyzing the relationship between casualties and killed people may not be immediate or direct, it can help businesses make informed decisions, minimize risks, and operate responsibly in regions affected by terrorism. Moreover, contributing to the stability and security of these regions indirectly supports economic development and prosperity, which can benefit businesses in the long run.**"
      ],
      "metadata": {
        "id": "zfJ8IqMcYoAp"
      }
    },
    {
      "cell_type": "markdown",
      "source": [
        "#### Chart - 4: **Methods of attack**"
      ],
      "metadata": {
        "id": "4Of9eVA-YrdM"
      }
    },
    {
      "cell_type": "code",
      "source": [
        "# Chart - 4 visualization code\n",
        "sns.displot(data['Attacktype'],color='#00FF00')\n",
        "plt.xticks(rotation=90)\n",
        "plt.xlabel('Method')\n",
        "plt.title('Methods of Attack')\n",
        "plt.figure(figsize=(8,18))"
      ],
      "metadata": {
        "id": "irlUoxc8YrdO"
      },
      "execution_count": null,
      "outputs": []
    },
    {
      "cell_type": "markdown",
      "source": [
        "##### 1. Why did you pick the specific chart?"
      ],
      "metadata": {
        "id": "iky9q4vBYrdO"
      }
    },
    {
      "cell_type": "markdown",
      "source": [
        "**sns.displot is chosen for visualizing the distribution of methods of attack because it is a versatile and effective tool for exploring the frequency and patterns of categorical data. It provides a clear and intuitive representation of the data distribution, making it valuable for both exploratory analysis and data communication purposes in the context of terrorism analysis or similar fields.**"
      ],
      "metadata": {
        "id": "aJRCwT6DYrdO"
      }
    },
    {
      "cell_type": "markdown",
      "source": [
        "##### 2. What is/are the insight(s) found from the chart?"
      ],
      "metadata": {
        "id": "F6T5p64dYrdO"
      }
    },
    {
      "cell_type": "markdown",
      "source": [
        "**Since from the above chart it is clear that Bombing/Explosion method was mostly used.**"
      ],
      "metadata": {
        "id": "Xx8WAJvtYrdO"
      }
    },
    {
      "cell_type": "markdown",
      "source": [
        "##### 3. Will the gained insights help creating a positive business impact?\n",
        "Are there any insights that lead to negative growth? Justify with specific reason."
      ],
      "metadata": {
        "id": "y-Ehk30pYrdP"
      }
    },
    {
      "cell_type": "markdown",
      "source": [
        "**Analyzing the distribution of methods of attack using sns.displot may not have a direct or immediate positive business impact in a traditional business sense. However, the insights gained from this analysis can indirectly contribute to business decision-making and risk management, especially for businesses operating in regions or industries with security concerns.**"
      ],
      "metadata": {
        "id": "jLNxxz7MYrdP"
      }
    },
    {
      "cell_type": "markdown",
      "source": [
        "#### Chart - 5: **Most Active Terrorist Organizations**"
      ],
      "metadata": {
        "id": "bamQiAODYuh1"
      }
    },
    {
      "cell_type": "code",
      "source": [
        "# Chart - 5 visualization code\n",
        "plt.subplots(figsize=(10,5))\n",
        "sns.barplot(y=data['Group'].value_counts()[1:12].index,x=data['Group'].value_counts()[1:12].values,palette='deep')\n",
        "plt.title('Most Active Terrorist Organizations')\n",
        "plt.show()"
      ],
      "metadata": {
        "id": "TIJwrbroYuh3"
      },
      "execution_count": null,
      "outputs": []
    },
    {
      "cell_type": "markdown",
      "source": [
        "##### 1. Why did you pick the specific chart?"
      ],
      "metadata": {
        "id": "QHF8YVU7Yuh3"
      }
    },
    {
      "cell_type": "markdown",
      "source": [
        "**The choice of subplots with a barplot is a powerful way to present information about the most active terrorist organizations. It offers clarity, comparability, and customization options, enabling you to convey key insights effectively while accommodating additional details or dimensions as required.**"
      ],
      "metadata": {
        "id": "dcxuIMRPYuh3"
      }
    },
    {
      "cell_type": "markdown",
      "source": [
        "##### 2. What is/are the insight(s) found from the chart?"
      ],
      "metadata": {
        "id": "GwzvFGzlYuh3"
      }
    },
    {
      "cell_type": "markdown",
      "source": [
        "**Most active terrorist organization is Taliban and the second most is ISIL**"
      ],
      "metadata": {
        "id": "uyqkiB8YYuh3"
      }
    },
    {
      "cell_type": "markdown",
      "source": [
        "##### 3. Will the gained insights help creating a positive business impact?\n",
        "Are there any insights that lead to negative growth? Justify with specific reason."
      ],
      "metadata": {
        "id": "qYpmQ266Yuh3"
      }
    },
    {
      "cell_type": "markdown",
      "source": [
        "**While the positive business impact of analyzing the most active terrorist organizations may not be immediate or direct, it can help businesses make informed decisions, minimize risks, and operate responsibly in regions affected by security challenges. Moreover, contributing to the stability and security of these regions indirectly supports economic development and prosperity, which can benefit businesses in the long run.**"
      ],
      "metadata": {
        "id": "_WtzZ_hCYuh4"
      }
    },
    {
      "cell_type": "markdown",
      "source": [
        "#### Chart - 6: **Total number of terrorist attack in each country and regions using barplot**"
      ],
      "metadata": {
        "id": "OH-pJp9IphqM"
      }
    },
    {
      "cell_type": "code",
      "source": [
        "# Chart - 6 visualization code\n",
        "fig,axes = plt.subplots(figsize=(18,8),nrows=1,ncols=2)\n",
        "sns.barplot(x = data['Country'].value_counts()[:20].values, y = data['Country'].value_counts()[:20].index,\n",
        "            ax=axes[0],palette = 'Spectral');\n",
        "axes[0].set_title('Terrorist Attacks per Country')\n",
        "sns.barplot(x=data['Region'].value_counts().values,y=data['Region'].value_counts().index,\n",
        "            ax=axes[1])\n",
        "axes[1].set_title('Terrorist Attacks per Region')\n",
        "fig.tight_layout()\n",
        "plt.show()"
      ],
      "metadata": {
        "id": "kuRf4wtuphqN"
      },
      "execution_count": null,
      "outputs": []
    },
    {
      "cell_type": "markdown",
      "source": [
        "##### 1. Why did you pick the specific chart?"
      ],
      "metadata": {
        "id": "bbFf2-_FphqN"
      }
    },
    {
      "cell_type": "markdown",
      "source": [
        "**Selecting a barplot to visualize the total number of terrorist attacks in each country and region aligns well with the characteristics of count data and the objectives of providing a clear, comparative, and easily interpretable representation of the data. It is a practical choice for communicating key insights about terrorist activity levels across different geographical areas.**"
      ],
      "metadata": {
        "id": "loh7H2nzphqN"
      }
    },
    {
      "cell_type": "markdown",
      "source": [
        "##### 2. What is/are the insight(s) found from the chart?"
      ],
      "metadata": {
        "id": "_ouA3fa0phqN"
      }
    },
    {
      "cell_type": "markdown",
      "source": [
        "**Terrorist Attacks per Country: 1. Iraq 2. Pakistan**\n",
        "\n",
        "**Terrorist Attacks per Region:1. Middle East & North Africa 2. South Asia**"
      ],
      "metadata": {
        "id": "VECbqPI7phqN"
      }
    },
    {
      "cell_type": "markdown",
      "source": [
        "##### 3. Will the gained insights help creating a positive business impact?\n",
        "Are there any insights that lead to negative growth? Justify with specific reason."
      ],
      "metadata": {
        "id": "Seke61FWphqN"
      }
    },
    {
      "cell_type": "markdown",
      "source": [
        "**Analyzing the total number of terrorist attacks in each country and region using a barplot may not have a direct and immediate positive business impact in the traditional sense of profitability. However, it can provide valuable insights that indirectly contribute to informed decision-making, risk management, and overall business sustainability, especially for companies operating in regions affected by terrorism.**"
      ],
      "metadata": {
        "id": "DW4_bGpfphqN"
      }
    },
    {
      "cell_type": "markdown",
      "source": [
        "#### Chart - 7: **The total number of attacks in each country using Globe**"
      ],
      "metadata": {
        "id": "PIIx-8_IphqN"
      }
    },
    {
      "cell_type": "markdown",
      "source": [
        "**We will first create a new dataframe which contains the total count of attacks for each country in order to use it as a colour bar**"
      ],
      "metadata": {
        "id": "0G9i57TFUIAa"
      }
    },
    {
      "cell_type": "code",
      "source": [
        "# Chart - 7 visualization code\n",
        "terr=data.groupby(['Country'],as_index=False).count()"
      ],
      "metadata": {
        "id": "lqAIGUfyphqO"
      },
      "execution_count": null,
      "outputs": []
    },
    {
      "cell_type": "code",
      "source": [
        "fig=px.choropleth(terr,locations='Country',locationmode='country names',\n",
        "                  color='Year',hover_name='Country',projection='orthographic',\n",
        "                  title='Total number of attacks (1970-2017)',labels={'Year':'Attacks'})\n",
        "fig.show()"
      ],
      "metadata": {
        "id": "M-k7to44UPhD"
      },
      "execution_count": null,
      "outputs": []
    },
    {
      "cell_type": "markdown",
      "source": [
        "**Country suffered the maximum attacks(state the number) and country suffered minimum attacks(state the number)**"
      ],
      "metadata": {
        "id": "OogacS6OVXwc"
      }
    },
    {
      "cell_type": "code",
      "source": [
        "max_count=terr['Year'].max()\n",
        "max_id=terr['Year'].idxmax()\n",
        "max_name=terr['Country'][max_id]\n",
        "min_count=terr['Year'].min()\n",
        "min_id=terr['Year'].idxmin()\n",
        "min_name=terr['Country'][min_id]"
      ],
      "metadata": {
        "id": "HszfrSQnVbdE"
      },
      "execution_count": null,
      "outputs": []
    },
    {
      "cell_type": "code",
      "source": [
        "print(max_name,'has suffered the maximum number of terror attacks of',max_count)\n",
        "print(min_name,'has suffered the minimum number of terror attacks of',min_count)"
      ],
      "metadata": {
        "id": "4eGaG9tHVdhN"
      },
      "execution_count": null,
      "outputs": []
    },
    {
      "cell_type": "markdown",
      "source": [
        "##### 1. Why did you pick the specific chart?"
      ],
      "metadata": {
        "id": "t27r6nlMphqO"
      }
    },
    {
      "cell_type": "markdown",
      "source": [
        "**Choosing a choropleth map with a globe representation to visualize the total number of terrorist attacks in each country is a strategic choice because it aligns well with the geospatial nature of the data and the goal of providing a global perspective on terrorist activities. It is a powerful tool for conveying insights into the distribution of attacks and can be particularly effective for engaging and informing a wide audience.**"
      ],
      "metadata": {
        "id": "iv6ro40sphqO"
      }
    },
    {
      "cell_type": "markdown",
      "source": [
        "##### 2. What is/are the insight(s) found from the chart?"
      ],
      "metadata": {
        "id": "r2jJGEOYphqO"
      }
    },
    {
      "cell_type": "markdown",
      "source": [
        "**Iraq has suffered the maximum number of terror attacks of 24636**\n",
        "\n",
        "\n",
        "**Andorra has suffered the minimum number of terror attacks of 1**"
      ],
      "metadata": {
        "id": "Po6ZPi4hphqO"
      }
    },
    {
      "cell_type": "markdown",
      "source": [
        "##### 3. Will the gained insights help creating a positive business impact?\n",
        "Are there any insights that lead to negative growth? Justify with specific reason."
      ],
      "metadata": {
        "id": "b0JNsNcRphqO"
      }
    },
    {
      "cell_type": "markdown",
      "source": [
        "**Visualizing the total number of attacks in each country using a globe choropleth map can indirectly contribute to positive business impact, especially for businesses with international operations or interests. While the impact may not be direct, the insights gained from such a visualization can inform decision-making and risk management strategies, potentially leading to positive outcomes.**"
      ],
      "metadata": {
        "id": "xvSq8iUTphqO"
      }
    },
    {
      "cell_type": "markdown",
      "source": [
        "#### Chart - 8: **Top 10 terrorist group attack**"
      ],
      "metadata": {
        "id": "BZR9WyysphqO"
      }
    },
    {
      "cell_type": "code",
      "source": [
        "# Chart - 8 visualization code\n",
        "data['Group'].value_counts().to_frame().drop('Unknown').head(10).plot(kind='bar',color='#808000',figsize=(18,6))\n",
        "plt.title(\"Top 10 terrorist group attack\",fontsize=20)\n",
        "plt.xlabel(\"Terrorist group name\",fontsize=12)\n",
        "plt.ylabel(\"Attack number\",fontsize=15)\n",
        "plt.show()"
      ],
      "metadata": {
        "id": "TdPTWpAVphqO"
      },
      "execution_count": null,
      "outputs": []
    },
    {
      "cell_type": "markdown",
      "source": [
        "##### 1. Why did you pick the specific chart?"
      ],
      "metadata": {
        "id": "jj7wYXLtphqO"
      }
    },
    {
      "cell_type": "markdown",
      "source": [
        "**Choosing a barplot to visualize the top 10 terrorist group attacks aligns well with the characteristics of the data and the goal of providing a clear, comparative, and easily interpretable representation of the data. It is a practical and efficient choice for communicating insights about the most active terrorist groups to a wide range of audiences.**"
      ],
      "metadata": {
        "id": "Ob8u6rCTphqO"
      }
    },
    {
      "cell_type": "markdown",
      "source": [
        "##### 2. What is/are the insight(s) found from the chart?"
      ],
      "metadata": {
        "id": "eZrbJ2SmphqO"
      }
    },
    {
      "cell_type": "markdown",
      "source": [
        "**Top 10 terrorist group attack were found in this chart**\n",
        "\n",
        "**Top 5 Group: 1. Talibam\n",
        "               2. ISIL\n",
        "               3. SL\n",
        "               4. FMLN\n",
        "               5. Al-Shabaab**"
      ],
      "metadata": {
        "id": "mZtgC_hjphqO"
      }
    },
    {
      "cell_type": "markdown",
      "source": [
        "##### 3. Will the gained insights help creating a positive business impact?\n",
        "Are there any insights that lead to negative growth? Justify with specific reason."
      ],
      "metadata": {
        "id": "rFu4xreNphqO"
      }
    },
    {
      "cell_type": "markdown",
      "source": [
        "**While the positive business impact of analyzing the top 10 terrorist group attacks may not be immediate or direct, it can help businesses make informed decisions, minimize risks, and operate responsibly in regions affected by security challenges. Moreover, contributing to the reduction of terrorism indirectly supports economic development and prosperity, which can benefit businesses in the long run.**"
      ],
      "metadata": {
        "id": "ey_0qi68phqO"
      }
    },
    {
      "cell_type": "markdown",
      "source": [
        "#### Chart - 9: **Before and after the War on Terror**"
      ],
      "metadata": {
        "id": "YJ55k-q6phqO"
      }
    },
    {
      "cell_type": "code",
      "source": [
        "# Chart - 9 visualization code\n",
        "data_after = data[data['Year']>=2001]\n",
        "fig,ax = plt.subplots(figsize=(15,10),nrows=2,ncols=1)\n",
        "ax[0] = pd.crosstab(data.Year,data.Region).plot(ax=ax[0])\n",
        "ax[0].set_title('Change in Regions per Year')\n",
        "ax[0].legend(loc='center left',bbox_to_anchor = (1,0.5))\n",
        "ax[0].vlines(x=2001,ymin=0,ymax=7000,colors='red',linestyles='--')\n",
        "pd.crosstab(data_after.Year,data_after.Region).plot.bar(stacked=True,ax=ax[1])\n",
        "ax[1].set_title('After Declaration of War on Terror (2001-2017)')\n",
        "ax[1].legend(loc='center left',bbox_to_anchor = (1,0.5))\n",
        "plt.show()\n"
      ],
      "metadata": {
        "id": "B2aS4O1ophqO"
      },
      "execution_count": null,
      "outputs": []
    },
    {
      "cell_type": "markdown",
      "source": [
        "##### 1. Why did you pick the specific chart?"
      ],
      "metadata": {
        "id": "gCFgpxoyphqP"
      }
    },
    {
      "cell_type": "markdown",
      "source": [
        "**These specific charts and techniques are chosen because they enables to effectively communicate and analyze how the War on Terror has impacted various aspects of terrorism, including changes in attack methods, locations, and the behavior of terrorist groups. By using subplots, crosstabs, and barplots together, we can provide a comprehensive and nuanced analysis of the data, highlighting both visual and quantitative insights about the pre- and post-War on Terror periods. This approach facilitates a deeper understanding of the subject matter and the impact of this significant historical event on terrorism trends.**"
      ],
      "metadata": {
        "id": "TVxDimi2phqP"
      }
    },
    {
      "cell_type": "markdown",
      "source": [
        "##### 2. What is/are the insight(s) found from the chart?"
      ],
      "metadata": {
        "id": "OVtJsKN_phqQ"
      }
    },
    {
      "cell_type": "markdown",
      "source": [
        "**From the first plot, it is very noticeable that the terrorism landscape before and after the War on Terror is vastly different. Before 2001, the regions were much closer together in terms of activity, eventually all dropping to a minimum in 2000. After 2001, the Middle East and South Asia have dictated the rise in terrorism numbers, with a significant increase in Sub-Saharan Africa as well**"
      ],
      "metadata": {
        "id": "ngGi97qjphqQ"
      }
    },
    {
      "cell_type": "markdown",
      "source": [
        "##### 3. Will the gained insights help creating a positive business impact?\n",
        "Are there any insights that lead to negative growth? Justify with specific reason."
      ],
      "metadata": {
        "id": "lssrdh5qphqQ"
      }
    },
    {
      "cell_type": "markdown",
      "source": [
        "**Analyzing data before and after the War on Terror using subplots, crosstabulations, and barplots may not have a direct positive business impact in the traditional sense of profitability. However, the insights gained from this analysis can indirectly contribute to positive business outcomes and informed decision-making, particularly for businesses operating in regions or industries with security concerns.**"
      ],
      "metadata": {
        "id": "tBpY5ekJphqQ"
      }
    },
    {
      "cell_type": "markdown",
      "source": [
        "#### Chart - 10: **Top 10 Most Frequent targets**"
      ],
      "metadata": {
        "id": "U2RJ9gkRphqQ"
      }
    },
    {
      "cell_type": "code",
      "source": [
        "# lets see the different groups activities and their motives and method of attacking\n",
        "groups = data[['Attacktype','Group','Weapon','Targettype']]"
      ],
      "metadata": {
        "id": "PfSOF-y69Gdu"
      },
      "execution_count": null,
      "outputs": []
    },
    {
      "cell_type": "code",
      "source": [
        "# Chart - 10 visualization code\n",
        "target_counts = groups['Targettype'].value_counts().drop('Unknown')\n",
        "sorted_Target= target_counts.sort_values(ascending=False)\n",
        "\n",
        "# Select the top 10 most frequent groups\n",
        "top_10_groups = sorted_Target.head(10)\n",
        "\n",
        "# Plot the histogram\n",
        "plt.figure(figsize=(10, 6))\n",
        "sns.barplot(x=top_10_groups.index, y=top_10_groups.values,palette='viridis')\n",
        "plt.xlabel('Target_type')\n",
        "plt.ylabel('Total Incidents')\n",
        "plt.title('Top 10 Most Frequent targets')\n",
        "plt.xticks(rotation=90)\n",
        "plt.show()"
      ],
      "metadata": {
        "id": "GM7a4YP4phqQ"
      },
      "execution_count": null,
      "outputs": []
    },
    {
      "cell_type": "markdown",
      "source": [
        "##### 1. Why did you pick the specific chart?"
      ],
      "metadata": {
        "id": "1M8mcRywphqQ"
      }
    },
    {
      "cell_type": "markdown",
      "source": [
        "**Choosing a barplot to visualize the top 10 most frequent targets of terrorist attacks aligns well with the characteristics of the data and the goal of providing a clear, comparative, and easily interpretable representation of the data. It is a practical and efficient choice for communicating insights about the most commonly targeted categories to a wide range of audiences.**"
      ],
      "metadata": {
        "id": "8agQvks0phqQ"
      }
    },
    {
      "cell_type": "markdown",
      "source": [
        "##### 2. What is/are the insight(s) found from the chart?"
      ],
      "metadata": {
        "id": "tgIPom80phqQ"
      }
    },
    {
      "cell_type": "markdown",
      "source": [
        "**It looks like Private cittizen and property are the most common target type choosed by terrorists groups**"
      ],
      "metadata": {
        "id": "Qp13pnNzphqQ"
      }
    },
    {
      "cell_type": "markdown",
      "source": [
        "##### 3. Will the gained insights help creating a positive business impact?\n",
        "Are there any insights that lead to negative growth? Justify with specific reason."
      ],
      "metadata": {
        "id": "JMzcOPDDphqR"
      }
    },
    {
      "cell_type": "markdown",
      "source": [
        "**Analyzing the trends in the favorite target types of the top 10 terrorist groups through pie charts may not have a direct and immediate positive business impact in the traditional sense of profitability. However, the insights gained from this analysis can indirectly contribute to positive business outcomes, particularly for businesses operating in regions or industries with security concerns.**\n",
        "\n",
        "\n",
        "**It's important to note that the specific impact of frequent attacks on these targets will depend on various factors, including the severity of the attacks, the resilience of the affected industries, and government responses. Additionally, businesses and governments often take measures to mitigate these risks, but the potential for negative growth remains a concern in regions with a history of terrorism or frequent attacks on critical targets.**"
      ],
      "metadata": {
        "id": "R4Ka1PC2phqR"
      }
    },
    {
      "cell_type": "markdown",
      "source": [
        "#### Chart - 11: **lets check the trend by top 10 terrorist groups their favourite target types**"
      ],
      "metadata": {
        "id": "x-EpHcCOp1ci"
      }
    },
    {
      "cell_type": "code",
      "source": [
        "group_counts = groups['Group'].value_counts()\n",
        "sorted_groups = group_counts.sort_values(ascending=False)\n",
        "sorted_groups = sorted_groups.iloc[1:]\n",
        "groups_name= sorted_groups.index[:10]"
      ],
      "metadata": {
        "id": "10NM3mgG-N6I"
      },
      "execution_count": null,
      "outputs": []
    },
    {
      "cell_type": "code",
      "source": [
        "# Chart - 11 visualization code\n",
        "def top_target():\n",
        "    grouping = groups.groupby(['Group'])\n",
        "    for group_name in groups_name:\n",
        "        grouping.get_group(group_name)\n",
        "        sort_taliban = grouping.get_group(group_name)['Targettype'].value_counts().drop('Unknown').sort_values(ascending = False)\n",
        "\n",
        "        #plot a graph\n",
        "        plt.figure(figsize=(12,6))\n",
        "        plt.pie(sort_taliban[:10].values,labels=sort_taliban[:10].index,autopct = '%.2f%%')\n",
        "        plt.title(f\"{group_name} top 10 attacked target types\")\n",
        "        plt.show()\n",
        "top_target()"
      ],
      "metadata": {
        "id": "mAQTIvtqp1cj"
      },
      "execution_count": null,
      "outputs": []
    },
    {
      "cell_type": "markdown",
      "source": [
        "##### 1. Why did you pick the specific chart?"
      ],
      "metadata": {
        "id": "X_VqEhTip1ck"
      }
    },
    {
      "cell_type": "markdown",
      "source": [
        "**Choosing a pie chart to visualize the favorite target types of the top 10 terrorist groups aligns well with the characteristics of the data and the goal of providing a clear, comparative, and easily interpretable representation of the data. It is a practical choice for communicating insights about the target preferences of these groups to a wide range of audiences.**"
      ],
      "metadata": {
        "id": "-vsMzt_np1ck"
      }
    },
    {
      "cell_type": "markdown",
      "source": [
        "##### 2. What is/are the insight(s) found from the chart?"
      ],
      "metadata": {
        "id": "8zGJKyg5p1ck"
      }
    },
    {
      "cell_type": "markdown",
      "source": [
        "**1. Taliban's favourite target is - Police(36.05%)**\n",
        "\n",
        "**2. ISIL's favourite target is - Private Citizens & Property(42.13%)**\n",
        "\n",
        "**3. SL's favourite target is - Private Citizens & Property(19.66%)**\n",
        "\n",
        "**4. FMLN's favourite target is - Military(37.01%)**\n",
        "\n",
        "**5. Al-Shabaab's favourite target is - Military(45.58%)**\n",
        "\n",
        "**6. NPA's favourite target is - Military(37.21%)**\n",
        "\n",
        "**7. IRA's favourite target is - Military(30.09%)**\n",
        "\n",
        "**8. FARC's favourite target is - Private Citizens & Property(21.18%)**\n",
        "\n",
        "**9. Boko Haram's favourite target is - Private Citizens & Property(48.58%)**\n",
        "\n",
        "**10. PKK's favourite target is - Military(36.15%)**"
      ],
      "metadata": {
        "id": "ZYdMsrqVp1ck"
      }
    },
    {
      "cell_type": "markdown",
      "source": [
        "##### 3. Will the gained insights help creating a positive business impact?\n",
        "Are there any insights that lead to negative growth? Justify with specific reason."
      ],
      "metadata": {
        "id": "PVzmfK_Ep1ck"
      }
    },
    {
      "cell_type": "markdown",
      "source": [
        "**Analyzing the trends in the favorite target types of the top 10 terrorist groups through pie charts may not have a direct and immediate positive business impact in the traditional sense of profitability. However, the insights gained from this analysis can indirectly contribute to positive business outcomes, particularly for businesses operating in regions or industries with security concerns.**\n",
        "\n",
        "**It's important to note that the specific impact of frequent attacks on these target types will depend on various factors, including the severity of the attacks, the resilience of the affected sectors, and government responses. Additionally, businesses and governments often take measures to mitigate these risks, but the potential for negative growth remains a concern in regions with a history of terrorism or frequent attacks on critical target types.**"
      ],
      "metadata": {
        "id": "druuKYZpp1ck"
      }
    },
    {
      "cell_type": "markdown",
      "source": [
        "#### Chart - 12: **Correlation Heatmap**"
      ],
      "metadata": {
        "id": "NC_X3p0fY2L0"
      }
    },
    {
      "cell_type": "code",
      "source": [
        "# Correlation Heatmap visualization code\n",
        "plt.figure(figsize=(15,10))\n",
        "#This shows how much related is one parameter to the other in the dataset.\n",
        "sns.heatmap(np.round(data.corr(),2),annot=True, cmap='BuPu')"
      ],
      "metadata": {
        "id": "xyC9zolEZNRQ"
      },
      "execution_count": null,
      "outputs": []
    },
    {
      "cell_type": "markdown",
      "source": [
        "##### 1. Why did you pick the specific chart?"
      ],
      "metadata": {
        "id": "UV0SzAkaZNRQ"
      }
    },
    {
      "cell_type": "markdown",
      "source": [
        "**A Correlation Heatmap is a powerful tool for exploring and visualizing relationships within global terrorist data. It enables analysts and researchers to uncover patterns, associations, and dependencies between various variables, providing valuable insights for decision-making and understanding the dynamics of terrorism-related factors.**"
      ],
      "metadata": {
        "id": "DVPuT8LYZNRQ"
      }
    },
    {
      "cell_type": "markdown",
      "source": [
        "##### 2. What is/are the insight(s) found from the chart?"
      ],
      "metadata": {
        "id": "YPEH6qLeZNRQ"
      }
    },
    {
      "cell_type": "markdown",
      "source": [
        "**1) Attacks has increased but number of people killed manier times as attack happened.**\n",
        "\n",
        "\n",
        "**2) Iraq has the most attacks.**\n",
        "\n",
        "\n",
        "**3) The Middle East and North Africa Regions has most taregeted.**\n",
        "\n",
        "\n",
        "**4) Maximum number of attacks are from Bombing/Explosions.**\n",
        "\n",
        "\n",
        "**5) There are maximum number of attacks in Private citizens and Property.**\n",
        "\n",
        "\n",
        "**6) Taliban and ISIL has a most active organisation.**"
      ],
      "metadata": {
        "id": "bfSqtnDqZNRR"
      }
    },
    {
      "cell_type": "markdown",
      "source": [
        "## **5. Solution to Business Objective**"
      ],
      "metadata": {
        "id": "JcMwzZxoAimU"
      }
    },
    {
      "cell_type": "markdown",
      "source": [
        "#### What do you suggest the client to achieve Business Objective ?\n",
        "Explain Briefly."
      ],
      "metadata": {
        "id": "8G2x9gOozGDZ"
      }
    },
    {
      "cell_type": "markdown",
      "source": [
        "#### To achieve a business objective through global terrorism data analysis, I would suggest the following steps:\n",
        "\n",
        "**Define Clear Objectives:** First and foremost, the client should define specific and measurable business objectives related to terrorism data analysis. These objectives should be aligned with the client's overall business goals. For example, objectives could include improving security measures, minimizing operational risks, or optimizing resource allocation.\n",
        "\n",
        "**Data Collection and Integration:** Collect and integrate relevant global terrorism data from reliable sources. Ensure that the data is comprehensive, up-to-date, and covers the relevant time period. Data sources may include databases like the Global Terrorism Database (GTD) or government reports.\n",
        "\n",
        "**Data Preprocessing:** Clean and preprocess the data to address missing values, outliers, and inconsistencies. Data preprocessing is crucial for ensuring the quality and reliability of the analysis.\n",
        "\n",
        "**Exploratory Data Analysis (EDA):** Conduct exploratory data analysis to understand the characteristics of the data. This may involve creating visualizations, such as charts, graphs, and heatmaps, to identify patterns, trends, and correlations within the data.\n",
        "\n",
        "**Hypothesis Testing:** Formulate hypotheses or research questions based on the business objectives and conduct statistical tests and analyses to validate these hypotheses. For example, test whether certain factors are associated with higher or lower terrorism rates.\n",
        "\n",
        "**Predictive Modeling:** If relevant to the business objectives, develop predictive models using machine learning or statistical techniques. These models can forecast future terrorism trends, helping the client take proactive measures.\n",
        "\n",
        "**Geospatial Analysis:** Utilize geospatial analysis to identify geographical hotspots of terrorism activity. Geospatial tools can help the client pinpoint high-risk areas and allocate resources accordingly.\n",
        "\n",
        "**Correlation Analysis:** Conduct correlation analyses, including correlation heatmaps, to explore relationships between various terrorism-related factors, such as attack methods, target types, regions, and time periods.\n",
        "\n",
        "**Reporting and Visualization:** Present the findings and insights in a clear and accessible manner. Use data visualizations, reports, and dashboards to communicate the results effectively to stakeholders.\n",
        "\n",
        "**Actionable Recommendations:** Based on the analysis, provide actionable recommendations to the client. These recommendations should be tailored to the business objectives and should guide decision-making and strategy development. For example, recommend specific security measures, resource allocation adjustments, or policy changes.\n",
        "\n",
        "**Monitoring and Evaluation:** Continuously monitor the terrorism landscape and evaluate the effectiveness of implemented strategies and recommendations. Adjust the approach as needed to achieve and maintain the desired business objectives.\n",
        "\n",
        "**Collaboration:** Encourage collaboration between different departments or stakeholders within the client's organization, such as security teams, risk management, and leadership, to ensure a coordinated approach to addressing terrorism-related challenges.\n",
        "\n",
        "#### By following these steps and tailoring the analysis to the client's specific business objectives, the client can leverage global terrorism data analysis to make informed decisions, enhance security, and mitigate risks effectively."
      ],
      "metadata": {
        "id": "pASKb0qOza21"
      }
    },
    {
      "cell_type": "markdown",
      "source": [
        "# **Conclusion**"
      ],
      "metadata": {
        "id": "gCX9965dhzqZ"
      }
    },
    {
      "cell_type": "markdown",
      "source": [
        "#### Their is  a global decline in the number of deaths from terrorist attacks in 2017 comparable to from the peak in 2014. Terrorism has in downfall stage in the Syria, Pakistan, Afghanistan and India, which are four of the five countries most affected by terrorism as of 2017.\n",
        "1. ALIBAN Most Attack Types: Bombing/Explosion Country with the most attacks: Iraq Year with the most attacks: 2014\n",
        "\n",
        "2. Number of attacks have increased from 1970 to 2017 by 94.0%\n",
        "\n",
        "3. Country Iraq is found to be highly targetted and has the most attacks and hence is considered as the hot zone of terrorism.\n",
        "\n",
        "4. The Middle East and North Africa regions are again the most taregeted ones.\n",
        "\n",
        "5. Bombing/Explosion is the most frequent method of attack by terrorists.\n",
        "\n",
        "6. Taliban and ISIL are ont the top of the list of most active terrorist organisations.\n",
        "\n",
        "7. There are maximum number of attacks in Private citizens and Property."
      ],
      "metadata": {
        "id": "Fjb1IsQkh3yE"
      }
    },
    {
      "cell_type": "markdown",
      "source": [
        "### ***Hurrah! You have successfully completed your EDA Capstone Project !!!***"
      ],
      "metadata": {
        "id": "gIfDvo9L0UH2"
      }
    }
  ]
}